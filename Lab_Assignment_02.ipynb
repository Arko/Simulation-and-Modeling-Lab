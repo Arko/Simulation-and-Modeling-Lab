{
  "nbformat": 4,
  "nbformat_minor": 0,
  "metadata": {
    "colab": {
      "provenance": []
    },
    "kernelspec": {
      "name": "python3",
      "display_name": "Python 3"
    },
    "language_info": {
      "name": "python"
    }
  },
  "cells": [
    {
      "cell_type": "code",
      "execution_count": 1,
      "metadata": {
        "id": "DT0KQItETA5i"
      },
      "outputs": [],
      "source": [
        "import numpy as np"
      ]
    },
    {
      "cell_type": "code",
      "source": [
        "# Task 1: Generate a 3x3 matrix of random integers (1 to 50) with a fixed seed\n",
        "np.random.seed(10)  # Ensuring reproducibility\n",
        "matrix_fixed_seed = np.random.randint(1, 51, (3, 3))\n",
        "print(\"Matrix with fixed seed:\")\n",
        "print(matrix_fixed_seed)"
      ],
      "metadata": {
        "colab": {
          "base_uri": "https://localhost:8080/"
        },
        "id": "Ey1mKnP-UD1Z",
        "outputId": "21f332ec-87d4-466e-9130-0415a98568ed"
      },
      "execution_count": 3,
      "outputs": [
        {
          "output_type": "stream",
          "name": "stdout",
          "text": [
            "Matrix with fixed seed:\n",
            "[[10 37 16]\n",
            " [ 1 50 29]\n",
            " [26 30 49]]\n"
          ]
        }
      ]
    },
    {
      "cell_type": "code",
      "source": [
        "# Task 2: Generate a 3x3 matrix of random integers (1 to 50) without setting a seed\n",
        "matrix_no_seed = np.random.randint(1, 51, (3, 3))\n",
        "print(\"\\nMatrix without fixed seed:\")\n",
        "print(matrix_no_seed)"
      ],
      "metadata": {
        "colab": {
          "base_uri": "https://localhost:8080/"
        },
        "id": "gqZzJSNMUdCI",
        "outputId": "19c120a3-4b4d-463d-86fc-064f2b4fd658"
      },
      "execution_count": 7,
      "outputs": [
        {
          "output_type": "stream",
          "name": "stdout",
          "text": [
            "\n",
            "Matrix without fixed seed:\n",
            "[[31 26 13]\n",
            " [ 2 32 37]\n",
            " [28 19 30]]\n"
          ]
        }
      ]
    },
    {
      "cell_type": "markdown",
      "source": [
        "1. Running the Code Twice\n",
        "- The first matrix (with a fixed seed) will always generate the same numbers whenever the code is run.\n",
        "- The second matrix (without a seed) will generate different numbers every time the code is run."
      ],
      "metadata": {
        "id": "9lHJs_XBVIFP"
      }
    },
    {
      "cell_type": "markdown",
      "source": [
        "2. Why Use np.random.seed(10)?\n",
        "- np.random.seed(10) ensures that the random number generator produces the same sequence of numbers each time the code is executed, making the results reproducible.\n",
        "- This is useful for debugging and comparing results.\n",
        "3. Without Setting a Seed\n",
        "- The random matrix will change every time you run the code.\n",
        "- This is because the random number generator is initialized with a different starting state every time."
      ],
      "metadata": {
        "id": "vlopuO9vVkRZ"
      }
    }
  ]
}