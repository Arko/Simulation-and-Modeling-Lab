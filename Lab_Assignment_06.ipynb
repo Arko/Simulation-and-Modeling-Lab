{
  "nbformat": 4,
  "nbformat_minor": 0,
  "metadata": {
    "colab": {
      "provenance": []
    },
    "kernelspec": {
      "name": "python3",
      "display_name": "Python 3"
    },
    "language_info": {
      "name": "python"
    }
  },
  "cells": [
    {
      "cell_type": "markdown",
      "source": [
        "Name: Md. Akib Zabed\n",
        "\n",
        "**ID: 2215151005**\n",
        "\n",
        "Section: 7A\n",
        "\n",
        "---\n",
        "\n"
      ],
      "metadata": {
        "id": "wZWBHwJoZAXO"
      }
    },
    {
      "cell_type": "code",
      "source": [
        "import numpy as np\n",
        "\n",
        "# Re-usable simulation function (based fully on the class notebook logic)\n",
        "def single_server_queue_simulation(lam, mu, num_customers, max_queue_length=None):\n",
        "    inter_arrival_times = np.random.exponential(1/lam, num_customers)\n",
        "    arrival_times = np.cumsum(inter_arrival_times)\n",
        "    service_times = np.random.exponential(1/mu, num_customers)\n",
        "\n",
        "    start_service_times = np.zeros(num_customers)\n",
        "    finish_service_times = np.zeros(num_customers)\n",
        "    waiting_times = np.zeros(num_customers)\n",
        "\n",
        "    queue_drops = 0  # Only for limited queue case\n",
        "\n",
        "    for i in range(num_customers):\n",
        "        if i == 0:\n",
        "            start_service_times[i] = arrival_times[i]\n",
        "        else:\n",
        "            # Queue logic — only for limited queue length\n",
        "            if max_queue_length is not None:\n",
        "                queue_length = np.sum((arrival_times[:i] <= arrival_times[i]) & (finish_service_times[:i] > arrival_times[i]))\n",
        "                if queue_length >= max_queue_length:\n",
        "                    # Drop the customer\n",
        "                    start_service_times[i] = np.nan\n",
        "                    finish_service_times[i] = np.nan\n",
        "                    waiting_times[i] = np.nan\n",
        "                    queue_drops += 1\n",
        "                    continue\n",
        "\n",
        "            start_service_times[i] = max(arrival_times[i], finish_service_times[i-1])\n",
        "\n",
        "        finish_service_times[i] = start_service_times[i] + service_times[i]\n",
        "        waiting_times[i] = start_service_times[i] - arrival_times[i]\n",
        "\n",
        "    valid_indices = ~np.isnan(waiting_times)\n",
        "    avg_waiting_time = np.mean(waiting_times[valid_indices])\n",
        "    total_sim_time = finish_service_times[valid_indices].max()\n",
        "    total_service_time = np.sum(service_times[valid_indices])\n",
        "    utilization = total_service_time / total_sim_time\n",
        "\n",
        "    return avg_waiting_time, utilization, queue_drops"
      ],
      "metadata": {
        "id": "CIffnQ0RZo4M"
      },
      "execution_count": 16,
      "outputs": []
    },
    {
      "cell_type": "code",
      "source": [
        "# Question 1: λ = 3, μ = 4\n",
        "\n",
        "print(\"Question 1: λ = 3, μ = 4 (Stable System)\\n\")\n",
        "wait1, util1, _ = single_server_queue_simulation(lam=3, mu=4, num_customers=200)\n",
        "\n",
        "print(f\"Average Waiting Time: {wait1:.4f}\")\n",
        "print(f\"Server Utilization: {util1:.4f}\")\n",
        "print(\"Discussion:\")\n",
        "print(\"- This is a stable queue because service rate > arrival rate.\")\n",
        "print(\"- The server has idle time, so waiting times are relatively low.\")\n",
        "print(\"- Utilization is below 100%, indicating a healthy system.\\n\")"
      ],
      "metadata": {
        "colab": {
          "base_uri": "https://localhost:8080/"
        },
        "id": "JrGiSc9ScuQ6",
        "outputId": "7d5826eb-60ce-42c7-8507-3e55ebbb531f"
      },
      "execution_count": 17,
      "outputs": [
        {
          "output_type": "stream",
          "name": "stdout",
          "text": [
            "Question 1: λ = 3, μ = 4 (Stable System)\n",
            "\n",
            "Average Waiting Time: 1.0148\n",
            "Server Utilization: 0.7714\n",
            "Discussion:\n",
            "- This is a stable queue because service rate > arrival rate.\n",
            "- The server has idle time, so waiting times are relatively low.\n",
            "- Utilization is below 100%, indicating a healthy system.\n",
            "\n"
          ]
        }
      ]
    },
    {
      "cell_type": "code",
      "source": [
        "# Question 2: λ = 8, μ = 6\n",
        "\n",
        "print(\"Question 2: λ = 8, μ = 6 (Overloaded System)\\n\")\n",
        "wait2, util2, _ = single_server_queue_simulation(lam=8, mu=6, num_customers=200)\n",
        "\n",
        "print(f\"Average Waiting Time: {wait2:.4f}\")\n",
        "print(f\"Server Utilization: {util2:.4f}\")\n",
        "print(\"Discussion:\")\n",
        "print(\"- This is an overloaded queue since λ > μ.\")\n",
        "print(\"- The server is always busy, and waiting times increase significantly.\")\n",
        "print(\"- Utilization is close to or at 100%, leading to queue buildup.\")\n",
        "print(\"- Over time, this system may become unstable with unbounded delays.\\n\")"
      ],
      "metadata": {
        "colab": {
          "base_uri": "https://localhost:8080/"
        },
        "id": "AKVfKsTIcu_Z",
        "outputId": "e18d8c84-447a-459a-d1e5-dc584e661783"
      },
      "execution_count": 18,
      "outputs": [
        {
          "output_type": "stream",
          "name": "stdout",
          "text": [
            "Question 2: λ = 8, μ = 6 (Overloaded System)\n",
            "\n",
            "Average Waiting Time: 4.3094\n",
            "Server Utilization: 0.9808\n",
            "Discussion:\n",
            "- This is an overloaded queue since λ > μ.\n",
            "- The server is always busy, and waiting times increase significantly.\n",
            "- Utilization is close to or at 100%, leading to queue buildup.\n",
            "- Over time, this system may become unstable with unbounded delays.\n",
            "\n"
          ]
        }
      ]
    },
    {
      "cell_type": "code",
      "source": [
        "# Question 3: Limited Queue (max 10 customers)\n",
        "\n",
        "print(\"Question 3: λ = 8, μ = 6, Max Queue = 10 (Overloaded with Finite Queue)\\n\")\n",
        "wait3, util3, drops = single_server_queue_simulation(lam=8, mu=6, num_customers=200, max_queue_length=10)\n",
        "\n",
        "print(f\"Average Waiting Time (for served customers): {wait3:.4f}\")\n",
        "print(f\"Server Utilization: {util3:.4f}\")\n",
        "print(f\"Number of Customers Dropped: {drops}\")\n",
        "print(\"Discussion:\")\n",
        "print(\"- Same overloaded system, but now we limit queue size to 10.\")\n",
        "print(\"- Customers are dropped when queue is full, reducing average wait (for those served).\")\n",
        "print(\"- Server is still heavily utilized, but system doesn't grow unbounded.\")\n",
        "print(\"- Trade-off: some customers are lost to keep the system manageable.\\n\")"
      ],
      "metadata": {
        "colab": {
          "base_uri": "https://localhost:8080/"
        },
        "id": "gLdyVBZnc0-Z",
        "outputId": "83208cb4-3a15-4494-ded0-0a5b2e532308"
      },
      "execution_count": 19,
      "outputs": [
        {
          "output_type": "stream",
          "name": "stdout",
          "text": [
            "Question 3: λ = 8, μ = 6, Max Queue = 10 (Overloaded with Finite Queue)\n",
            "\n",
            "Average Waiting Time (for served customers): 0.5105\n",
            "Server Utilization: 1.2307\n",
            "Number of Customers Dropped: 27\n",
            "Discussion:\n",
            "- Same overloaded system, but now we limit queue size to 10.\n",
            "- Customers are dropped when queue is full, reducing average wait (for those served).\n",
            "- Server is still heavily utilized, but system doesn't grow unbounded.\n",
            "- Trade-off: some customers are lost to keep the system manageable.\n",
            "\n"
          ]
        }
      ]
    }
  ]
}